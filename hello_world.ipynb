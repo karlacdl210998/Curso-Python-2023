{
  "nbformat": 4,
  "nbformat_minor": 0,
  "metadata": {
    "colab": {
      "provenance": [],
      "authorship_tag": "ABX9TyMDUGKpg7n/Z4D3wDmX8gJo",
      "include_colab_link": true
    },
    "kernelspec": {
      "name": "python3",
      "display_name": "Python 3"
    },
    "language_info": {
      "name": "python"
    }
  },
  "cells": [
    {
      "cell_type": "markdown",
      "metadata": {
        "id": "view-in-github",
        "colab_type": "text"
      },
      "source": [
        "<a href=\"https://colab.research.google.com/github/karlacdl210998/Curso-Python-2023/blob/main/hello_world.ipynb\" target=\"_parent\"><img src=\"https://colab.research.google.com/assets/colab-badge.svg\" alt=\"Open In Colab\"/></a>"
      ]
    },
    {
      "cell_type": "code",
      "execution_count": null,
      "metadata": {
        "colab": {
          "base_uri": "https://localhost:8080/"
        },
        "id": "wPtcdXHBr1TO",
        "outputId": "749e1f75-7297-4626-af77-55858668d7d4"
      },
      "outputs": [
        {
          "output_type": "stream",
          "name": "stdout",
          "text": [
            "Hello,World!\n"
          ]
        }
      ],
      "source": [
        "#En Python podemos usar comillas dobles\n",
        "#para crear un string (cadena de caracteres ó texto)\n",
        "print(\"Hello,World!\")"
      ]
    },
    {
      "cell_type": "code",
      "source": [
        "#Pero también en podemos usar comillas sencillas\n",
        "print('Hello, World')"
      ],
      "metadata": {
        "id": "Cen0KkZGr_o1",
        "outputId": "10adba05-d8d5-422b-c312-57254c566aab",
        "colab": {
          "base_uri": "https://localhost:8080/"
        }
      },
      "execution_count": 1,
      "outputs": [
        {
          "output_type": "stream",
          "name": "stdout",
          "text": [
            "Hello, World\n"
          ]
        }
      ]
    },
    {
      "cell_type": "code",
      "source": [],
      "metadata": {
        "id": "UcSyjdsrtrnW"
      },
      "execution_count": null,
      "outputs": []
    }
  ]
}