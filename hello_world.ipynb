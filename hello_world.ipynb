{
  "nbformat": 4,
  "nbformat_minor": 0,
  "metadata": {
    "colab": {
      "provenance": [],
      "authorship_tag": "ABX9TyNccoDDCajsziY4mQtXrjp5",
      "include_colab_link": true
    },
    "kernelspec": {
      "name": "python3",
      "display_name": "Python 3"
    },
    "language_info": {
      "name": "python"
    }
  },
  "cells": [
    {
      "cell_type": "markdown",
      "metadata": {
        "id": "view-in-github",
        "colab_type": "text"
      },
      "source": [
        "<a href=\"https://colab.research.google.com/github/karlacdl210998/Curso-Python-2023/blob/main/hello_world.ipynb\" target=\"_parent\"><img src=\"https://colab.research.google.com/assets/colab-badge.svg\" alt=\"Open In Colab\"/></a>"
      ]
    },
    {
      "cell_type": "markdown",
      "source": [
        "#Mi primer código de Python"
      ],
      "metadata": {
        "id": "3KIFnX7vuxEG"
      }
    },
    {
      "cell_type": "code",
      "execution_count": null,
      "metadata": {
        "colab": {
          "base_uri": "https://localhost:8080/"
        },
        "id": "wPtcdXHBr1TO",
        "outputId": "749e1f75-7297-4626-af77-55858668d7d4"
      },
      "outputs": [
        {
          "output_type": "stream",
          "name": "stdout",
          "text": [
            "Hello,World!\n"
          ]
        }
      ],
      "source": [
        "#En Python podemos usar comillas dobles\n",
        "#para crear un string (cadena de caracteres ó texto)\n",
        "print(\"Hello,World!\")"
      ]
    },
    {
      "cell_type": "code",
      "source": [
        "#Pero también en podemos usar comillas sencillas\n",
        "print('Hello, World')"
      ],
      "metadata": {
        "id": "Cen0KkZGr_o1",
        "outputId": "10adba05-d8d5-422b-c312-57254c566aab",
        "colab": {
          "base_uri": "https://localhost:8080/"
        }
      },
      "execution_count": null,
      "outputs": [
        {
          "output_type": "stream",
          "name": "stdout",
          "text": [
            "Hello, World\n"
          ]
        }
      ]
    },
    {
      "cell_type": "code",
      "source": [
        "#Aunque no es necesario usar el print en colab\n",
        "#para mostrar un resultado\n",
        "\"Hello,World!\"\n",
        "#Util cuando desarrollamos o queremos ver un resultado\n",
        "#Pero, como buena práctica hay que usar siempre la\n",
        "#función print para mostrar un resultado"
      ],
      "metadata": {
        "id": "UcSyjdsrtrnW",
        "outputId": "9d37cef3-bd7c-42e4-87e7-af80f952641c",
        "colab": {
          "base_uri": "https://localhost:8080/",
          "height": 37
        }
      },
      "execution_count": 2,
      "outputs": [
        {
          "output_type": "execute_result",
          "data": {
            "text/plain": [
              "'Hello,World!'"
            ],
            "application/vnd.google.colaboratory.intrinsic+json": {
              "type": "string"
            }
          },
          "metadata": {},
          "execution_count": 2
        }
      ]
    },
    {
      "cell_type": "code",
      "source": [],
      "metadata": {
        "id": "ufmaQ3NMu-0A"
      },
      "execution_count": null,
      "outputs": []
    }
  ]
}